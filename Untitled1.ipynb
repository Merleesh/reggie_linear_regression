{
 "cells": [
  {
   "cell_type": "code",
   "execution_count": 16,
   "id": "streaming-nicaragua",
   "metadata": {},
   "outputs": [
    {
     "name": "stdout",
     "output_type": "stream",
     "text": [
      "True\n",
      "True\n",
      "0\n",
      "1\n",
      "1\n",
      "5\n"
     ]
    }
   ],
   "source": [
    "def get_y(m, b, x):\n",
    "    y = m*x + b\n",
    "    return y\n",
    "\n",
    "print(get_y(1, 0, 7) == 7)\n",
    "print(get_y(5, 10, 3) == 25)\n",
    "\n",
    "def calculate_error(m, b, point):\n",
    "    x_point = point[0]\n",
    "    y_point = point[1]\n",
    "    return abs(get_y(m, b, x_point) - y_point)\n",
    "print(calculate_error(1, 0, (3, 3)))\n",
    "print(calculate_error(1, -1, (3, 3)))\n",
    "print(calculate_error(1, 0, (3, 4)))\n",
    "print(calculate_error(-1, 1, (3, 3)))"
   ]
  },
  {
   "cell_type": "code",
   "execution_count": 42,
   "id": "severe-transmission",
   "metadata": {},
   "outputs": [
    {
     "name": "stdout",
     "output_type": "stream",
     "text": [
      "0\n",
      "4\n",
      "18\n"
     ]
    }
   ],
   "source": [
    "def calculate_all_errors(m, b, datapointss):\n",
    "    total = 0\n",
    "    for the_data in datapointss:\n",
    "        x_point = the_data[0]\n",
    "        y_point = the_data[1]\n",
    "        total += (abs(get_y(m, b, x_point) - y_point))\n",
    "    return total\n",
    "\n",
    "datapoints = [(1, 1), (3, 3), (5, 5), (-1, -1)]\n",
    "print(calculate_all_errors(1, 0, datapoints))\n",
    "\n",
    "datapoints = [(1, 1), (3, 3), (5, 5), (-1, -1)]\n",
    "print(calculate_all_errors(1, -1, datapoints))\n",
    "\n",
    "datapoints = [(1, 1), (3, 3), (5, 5), (-1, -1)]\n",
    "print(calculate_all_errors(-1, 1, datapoints))"
   ]
  },
  {
   "cell_type": "code",
   "execution_count": 64,
   "id": "related-wright",
   "metadata": {},
   "outputs": [
    {
     "name": "stdout",
     "output_type": "stream",
     "text": [
      "0.30000000000000004 1.7000000000000002 4.999999999999999\n",
      "3.2\n"
     ]
    }
   ],
   "source": [
    "datapoints = [(1, 2), (2, 0), (3, 4), (4, 4), (5, 3)]\n",
    "possible_ms = [m*0.1 for m in range(-99, 100)]\n",
    "possible_bs = [b*0.1 for b in range(-19, 20)]\n",
    "smallest_error = float(\"inf\")\n",
    "best_m = 0\n",
    "best_b = 0\n",
    "for m in possible_ms:\n",
    "    for b in possible_bs:\n",
    "        error = calculate_all_errors(m, b, datapoints)\n",
    "        if error < smallest_error:\n",
    "            best_m = m\n",
    "            best_b = b\n",
    "            smallest_error = error\n",
    "print(best_m, best_b, smallest_error)\n",
    "print(get_y(best_m, best_b, smallest_error))"
   ]
  }
 ],
 "metadata": {
  "kernelspec": {
   "display_name": "Python 3",
   "language": "python",
   "name": "python3"
  },
  "language_info": {
   "codemirror_mode": {
    "name": "ipython",
    "version": 3
   },
   "file_extension": ".py",
   "mimetype": "text/x-python",
   "name": "python",
   "nbconvert_exporter": "python",
   "pygments_lexer": "ipython3",
   "version": "3.8.5"
  }
 },
 "nbformat": 4,
 "nbformat_minor": 5
}
